{
 "cells": [
  {
   "cell_type": "code",
   "execution_count": 1,
   "id": "8362e110-d7fa-4742-8587-4771c9b13f46",
   "metadata": {},
   "outputs": [],
   "source": [
    "import torch\n",
    "import torch.nn.utils.prune as prune \n",
    "import torchvision\n",
    "import onnx\n",
    "import onnxruntime as ort\n",
    "import ultralytics\n",
    "import matplotlib.pyplot as plt\n",
    "import os\n",
    "import time\n",
    "import torch.onnx\n",
    "from torch.quantization import quantize_dynamic\n",
    "from ultralytics import YOLO\n",
    "import cv2\n",
    "import onnx\n",
    "from PIL import ImageDraw\n",
    "import numpy as np\n",
    "from torchvision import transforms "
   ]
  },
  {
   "cell_type": "code",
   "execution_count": 2,
   "id": "52c7a580-2f9a-4bb0-abfa-9ad1880a6d36",
   "metadata": {},
   "outputs": [],
   "source": [
    "from PIL import Image\n",
    "from torch.utils.data import Dataset, DataLoader\n",
    "import torchvision.transforms as transforms\n",
    "from torch2trt import torch2trt"
   ]
  },
  {
   "cell_type": "code",
   "execution_count": 3,
   "id": "9a1fe336-2d97-4dbc-9849-26bc9baab2fa",
   "metadata": {},
   "outputs": [],
   "source": [
    "# Check GPU\n",
    "device = torch.device('cuda' if torch.cuda.is_available() else 'cpu')"
   ]
  },
  {
   "cell_type": "code",
   "execution_count": 4,
   "id": "a2cfe9bf-af4f-43a3-b21a-9b5243678064",
   "metadata": {},
   "outputs": [],
   "source": [
    "providers = [\"TensorrtExecutionProvider\", \"CUDAExecutionProvider\"]"
   ]
  },
  {
   "cell_type": "code",
   "execution_count": 5,
   "id": "b4f55ba8-ce5d-4418-8f70-5d4c5058285d",
   "metadata": {},
   "outputs": [],
   "source": [
    "# Load the ONNX model\n",
    "model_path = 'yolov8s_quantized.onnx'\n",
    "session = ort.InferenceSession(model_path,provider=providers)"
   ]
  },
  {
   "cell_type": "code",
   "execution_count": 6,
   "id": "0a5634ae-608f-48d5-88c2-1e8603b29eab",
   "metadata": {},
   "outputs": [],
   "source": [
    "# Prepare the input data\n",
    "input_name = session.get_inputs()[0].name\n",
    "input_shape = session.get_inputs()[0].shape"
   ]
  },
  {
   "cell_type": "code",
   "execution_count": 7,
   "id": "19200759-ad1d-4156-9ea4-0da43a3801ec",
   "metadata": {},
   "outputs": [
    {
     "name": "stdout",
     "output_type": "stream",
     "text": [
      "Expected input shape: ['batch', 3, 'height', 'width']\n"
     ]
    }
   ],
   "source": [
    "# Print the expected input shape\n",
    "print(\"Expected input shape:\", input_shape)"
   ]
  },
  {
   "cell_type": "code",
   "execution_count": 8,
   "id": "5dcc86b2-9642-4529-9f1d-9bf0901f1aab",
   "metadata": {},
   "outputs": [],
   "source": [
    "img = Image.open(\"bus.jpg\")\n",
    "img_width, img_height = img.size;\n",
    "img = img.resize((640,640))"
   ]
  },
  {
   "cell_type": "code",
   "execution_count": 9,
   "id": "e44ec2f9-8f20-408d-94e9-402707ea172e",
   "metadata": {},
   "outputs": [
    {
     "ename": "error",
     "evalue": "OpenCV(4.10.0) :-1: error: (-5:Bad argument) in function 'resize'\n> Overload resolution failed:\n>  - Can't parse 'dsize'. Sequence item with index 0 has a wrong type\n>  - Can't parse 'dsize'. Sequence item with index 0 has a wrong type\n",
     "output_type": "error",
     "traceback": [
      "\u001b[0;31m---------------------------------------------------------------------------\u001b[0m",
      "\u001b[0;31merror\u001b[0m                                     Traceback (most recent call last)",
      "Cell \u001b[0;32mIn[9], line 9\u001b[0m\n\u001b[1;32m      7\u001b[0m \u001b[38;5;66;03m# Resize to the expected dimensions\u001b[39;00m\n\u001b[1;32m      8\u001b[0m img \u001b[38;5;241m=\u001b[39m cv2\u001b[38;5;241m.\u001b[39mcvtColor(img, cv2\u001b[38;5;241m.\u001b[39mCOLOR_BGR2RGB)  \u001b[38;5;66;03m# Convert BGR to RGB\u001b[39;00m\n\u001b[0;32m----> 9\u001b[0m img \u001b[38;5;241m=\u001b[39m \u001b[43mcv2\u001b[49m\u001b[38;5;241;43m.\u001b[39;49m\u001b[43mresize\u001b[49m\u001b[43m(\u001b[49m\u001b[43mimg\u001b[49m\u001b[43m,\u001b[49m\u001b[43m \u001b[49m\u001b[43m(\u001b[49m\u001b[43minput_shape\u001b[49m\u001b[43m[\u001b[49m\u001b[38;5;241;43m3\u001b[39;49m\u001b[43m]\u001b[49m\u001b[43m,\u001b[49m\u001b[43m \u001b[49m\u001b[43minput_shape\u001b[49m\u001b[43m[\u001b[49m\u001b[38;5;241;43m2\u001b[39;49m\u001b[43m]\u001b[49m\u001b[43m)\u001b[49m\u001b[43m)\u001b[49m  \u001b[38;5;66;03m# Resize to (640, 640)\u001b[39;00m\n\u001b[1;32m     11\u001b[0m \u001b[38;5;66;03m# Normalize the image if required (depending on your model's preprocessing)\u001b[39;00m\n\u001b[1;32m     12\u001b[0m img \u001b[38;5;241m=\u001b[39m img\u001b[38;5;241m.\u001b[39mastype(np\u001b[38;5;241m.\u001b[39mfloat32) \u001b[38;5;241m/\u001b[39m \u001b[38;5;241m255.0\u001b[39m\n",
      "\u001b[0;31merror\u001b[0m: OpenCV(4.10.0) :-1: error: (-5:Bad argument) in function 'resize'\n> Overload resolution failed:\n>  - Can't parse 'dsize'. Sequence item with index 0 has a wrong type\n>  - Can't parse 'dsize'. Sequence item with index 0 has a wrong type\n"
     ]
    }
   ],
   "source": [
    "# Load and preprocess the image\n",
    "img_path = 'bus.jpg'\n",
    "\n",
    "# Load image using OpenCV\n",
    "img = cv2.imread(img_path)\n",
    "\n",
    "# Resize to the expected dimensions\n",
    "img = cv2.cvtColor(img, cv2.COLOR_BGR2RGB)  # Convert BGR to RGB\n",
    "img = cv2.resize(img, (input_shape[3], input_shape[2]))  # Resize to (640, 640)\n",
    "\n",
    "# Normalize the image if required (depending on your model's preprocessing)\n",
    "img = img.astype(np.float32) / 255.0\n",
    "\n",
    "# Add batch dimension\n",
    "img = np.expand_dims(img, axis=0)\n",
    "\n",
    "# Reorder dimensions from (1, height, width, channels) to (1, channels, height, width)\n",
    "img = np.transpose(img, (0, 3, 1, 2))\n",
    "\n",
    "# Check the shape of the input\n",
    "print(\"Input shape after reordering:\", img.shape)\n",
    "num_runs = 100\n",
    "for _ in range(num_runs):\n",
    "# Run inference\n",
    "    st = time.perf_counter()\n",
    "    outputs = session.run(None, {input_name: img})\n",
    "    et = time.perf_counter() - st\n",
    "    print(f\"FPS {1/et} {et}\")\n",
    "# Process the output (this depends on your specific model)\n",
    "print(\"Model outputs:\", outputs)"
   ]
  },
  {
   "cell_type": "code",
   "execution_count": null,
   "id": "66ff43fe-cc9b-4fc6-adee-34681053c9d8",
   "metadata": {},
   "outputs": [],
   "source": [
    "output = outputs[0]\n",
    "output.shape"
   ]
  },
  {
   "cell_type": "code",
   "execution_count": null,
   "id": "26bc4cef-a074-4083-8cce-18d3125d2fe7",
   "metadata": {},
   "outputs": [],
   "source": [
    "output = output[0]\n",
    "output.shape"
   ]
  },
  {
   "cell_type": "code",
   "execution_count": null,
   "id": "ed642cfc-e316-4d67-a438-adc645616146",
   "metadata": {},
   "outputs": [],
   "source": [
    "output = output.transpose()"
   ]
  },
  {
   "cell_type": "code",
   "execution_count": null,
   "id": "73955de8-04d5-4304-b938-46edcc5a4f9a",
   "metadata": {},
   "outputs": [],
   "source": [
    "output.shape"
   ]
  },
  {
   "cell_type": "code",
   "execution_count": null,
   "id": "ce198219-9c69-4c10-89c2-5f740601edc3",
   "metadata": {},
   "outputs": [],
   "source": [
    "len(outputs)"
   ]
  },
  {
   "cell_type": "code",
   "execution_count": null,
   "id": "9923c980-fc6c-4509-9b21-78845d57617e",
   "metadata": {},
   "outputs": [],
   "source": [
    "row = output[0]\n",
    "print(row)"
   ]
  },
  {
   "cell_type": "code",
   "execution_count": null,
   "id": "a4d94938-8367-4ac3-85a2-52883e1684fb",
   "metadata": {},
   "outputs": [],
   "source": [
    "xc,yc,w,h = row[:4]"
   ]
  },
  {
   "cell_type": "code",
   "execution_count": null,
   "id": "a7865591-2b02-4a23-ba40-b4d1103406b8",
   "metadata": {},
   "outputs": [],
   "source": [
    "x1 = xc-w/2\n",
    "y1 = yc-h/2\n",
    "x2 = xc+w/2\n",
    "y2 = yc+h/2"
   ]
  },
  {
   "cell_type": "code",
   "execution_count": null,
   "id": "23b85c46-8238-492c-9924-79b62c5f37b1",
   "metadata": {},
   "outputs": [],
   "source": [
    "x1 = (xc - w/2) / 640 * img_width\n",
    "y1 = (yc - h/2) / 640 * img_height\n",
    "x2 = (xc + w/2) / 640 * img_width\n",
    "y2 = (yc + h/2) / 640 * img_height"
   ]
  },
  {
   "cell_type": "code",
   "execution_count": null,
   "id": "af6ddaec-bbca-428c-8d4c-d335d6344d7c",
   "metadata": {},
   "outputs": [],
   "source": [
    "prob = row[4:].max()\n",
    "class_id = row[4:].argmax()\n",
    "\n",
    "print(prob, class_id)"
   ]
  },
  {
   "cell_type": "code",
   "execution_count": null,
   "id": "8d314936-0c7a-469a-89f6-fdf1521b2e04",
   "metadata": {},
   "outputs": [],
   "source": [
    "# Array of YOLOv8 class labels\n",
    "yolo_classes = [\n",
    "    \"person\", \"bicycle\", \"car\", \"motorcycle\", \"airplane\", \"bus\", \"train\", \"truck\", \"boat\",\n",
    "    \"traffic light\", \"fire hydrant\", \"stop sign\", \"parking meter\", \"bench\", \"bird\", \"cat\", \"dog\", \"horse\",\n",
    "    \"sheep\", \"cow\", \"elephant\", \"bear\", \"zebra\", \"giraffe\", \"backpack\", \"umbrella\", \"handbag\", \"tie\",\n",
    "    \"suitcase\", \"frisbee\", \"skis\", \"snowboard\", \"sports ball\", \"kite\", \"baseball bat\", \"baseball glove\",\n",
    "    \"skateboard\", \"surfboard\", \"tennis racket\", \"bottle\", \"wine glass\", \"cup\", \"fork\", \"knife\", \"spoon\",\n",
    "    \"bowl\", \"banana\", \"apple\", \"sandwich\", \"orange\", \"broccoli\", \"carrot\", \"hot dog\", \"pizza\", \"donut\",\n",
    "    \"cake\", \"chair\", \"couch\", \"potted plant\", \"bed\", \"dining table\", \"toilet\", \"tv\", \"laptop\", \"mouse\",\n",
    "    \"remote\", \"keyboard\", \"cell phone\", \"microwave\", \"oven\", \"toaster\", \"sink\", \"refrigerator\", \"book\",\n",
    "    \"clock\", \"vase\", \"scissors\", \"teddy bear\", \"hair drier\", \"toothbrush\"\n",
    "]"
   ]
  },
  {
   "cell_type": "code",
   "execution_count": null,
   "id": "d1dbb758-beea-4485-9484-5dfdd07152c4",
   "metadata": {},
   "outputs": [],
   "source": [
    "label = yolo_classes[class_id]"
   ]
  },
  {
   "cell_type": "code",
   "execution_count": null,
   "id": "cb8b940d-4be9-4dfb-b249-605113a2cfb8",
   "metadata": {},
   "outputs": [],
   "source": [
    "def parse_row(row):\n",
    "    xc,yc,w,h = row[:4]\n",
    "    x1 = (xc-w/2)#/640*img_width\n",
    "    y1 = (yc-h/2)#/640*img_height\n",
    "    x2 = (xc+w/2)#/640*img_width\n",
    "    y2 = (yc+h/2)#/640*img_height\n",
    "    prob = row[4:].max()\n",
    "    class_id = row[4:].argmax()\n",
    "    label = yolo_classes[class_id]\n",
    "    return [x1,y1,x2,y2,label,prob]"
   ]
  },
  {
   "cell_type": "code",
   "execution_count": null,
   "id": "12bee4ed-d2ce-4a3c-8f44-ca95b9daf737",
   "metadata": {},
   "outputs": [],
   "source": [
    "boxes = [row for row in [parse_row(row) for row in output] if row[5]>0.5]\n",
    "len(boxes)"
   ]
  },
  {
   "cell_type": "code",
   "execution_count": null,
   "id": "5015c76d-78ef-48cb-a287-6618af3d2356",
   "metadata": {},
   "outputs": [],
   "source": [
    "[parse_row(row) for row in output]"
   ]
  },
  {
   "cell_type": "code",
   "execution_count": null,
   "id": "2a2b0ab0-c794-499a-b7dd-2632bca48980",
   "metadata": {},
   "outputs": [],
   "source": [
    "img_path = 'bus.jpg'\n",
    "img = Image.open(img_path)\n",
    "print(img.size)\n",
    "img = img.resize((640,640))\n",
    "print(img.size)\n",
    "draw = ImageDraw.Draw(img)"
   ]
  },
  {
   "cell_type": "code",
   "execution_count": null,
   "id": "57c21b61-fadc-4997-843e-3a7984a5ba67",
   "metadata": {},
   "outputs": [],
   "source": [
    "for box in boxes:\n",
    "    x1,y1,x2,y2,class_id,prob = box\n",
    "    print(x1,y1,x2,y2,class_id,prob)\n",
    "    draw.rectangle((int(x1),int(y1),int(x2),int(y2)),None,\"#00ff00\")\n",
    "\n",
    "img"
   ]
  },
  {
   "cell_type": "code",
   "execution_count": null,
   "id": "27c6fa87-35cb-4dd9-b6e6-5c94301e0e7a",
   "metadata": {},
   "outputs": [],
   "source": []
  }
 ],
 "metadata": {
  "kernelspec": {
   "display_name": "Python 3 (ipykernel)",
   "language": "python",
   "name": "python3"
  },
  "language_info": {
   "codemirror_mode": {
    "name": "ipython",
    "version": 3
   },
   "file_extension": ".py",
   "mimetype": "text/x-python",
   "name": "python",
   "nbconvert_exporter": "python",
   "pygments_lexer": "ipython3",
   "version": "3.8.10"
  }
 },
 "nbformat": 4,
 "nbformat_minor": 5
}
